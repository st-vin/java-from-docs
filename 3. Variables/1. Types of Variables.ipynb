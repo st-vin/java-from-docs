{
 "cells": [
  {
   "cell_type": "markdown",
   "id": "5566b16d",
   "metadata": {},
   "source": [
    "# Types of variables:\n",
    "\n",
    "1. Instance Variables (Non-Static Fields)\n",
    "Technically speaking, objects store their individual states in \"non-static fields\", that is, fields declared without the static keyword. Non-static fields are also known as instance variables because their values are unique to each instance of a class (to each object, in other words); the currentSpeed of one bicycle is independent from the currentSpeed of another.\n",
    "\n",
    "2. Class Variables (Static Fields)\n",
    " A class variable is any field declared with the static modifier; this tells the compiler that there is exactly one copy of this variable in existence, regardless of how many times the class has been instantiated. A field defining the number of gears for a particular kind of bicycle could be marked as static since conceptually the same number of gears will apply to all instances. The code static int numGears = 6; would create such a static field. Additionally, the keyword final could be added to indicate that the number of gears will never change.\n",
    "\n",
    "3. Local Variables\n",
    " Similar to how an object stores its state in fields, a method will often store its temporary state in local variables. The syntax for declaring a local variable is similar to declaring a field (for example, int count = 0;). There is no special keyword designating a variable as local; that determination comes entirely from the location in which the variable is declared — which is between the opening and closing braces of a method. As such, local variables are only visible to the methods in which they are declared; they are not accessible from the rest of the class.\n",
    "\n",
    "4. Parameters\n",
    " You've already seen examples of parameters, both in the Bicycle class and in the main method of the \"Hello World!\" application. Recall that the signature for the main method is public static void main(String[] args). Here, the args variable is the parameter to this method. The important thing to remember is that parameters are always classified as \"variables\" not \"fields\". This applies to other parameter-accepting constructs as well (such as constructors and exception handlers) that you'll learn about later in the tutorial.\n",
    "\n",
    "Having said that, the remainder of this tutorial uses the following general guidelines when discussing fields and variables. If we are talking about \"fields in general\" (excluding local variables and parameters), we may simply say \"fields\". If the discussion applies to \"all of the above\", we may simply say \"variables\". If the context calls for a distinction, we will use specific terms (static field, local variables, etc.) as appropriate. You may also occasionally see the term \"member\" used as well.\n",
    "**A type's fields, methods, and nested types are collectively called its members.**\n",
    "\n",
    "# Naming\n",
    "\n",
    "1. Case Sensitivity:\n",
    "\n",
    "Java variable names are case-sensitive. `myVariable` is different from `MyVariable`.\n",
    "\n",
    "2. Legal Characters:\n",
    "\n",
    "Variable names can include:\n",
    "- Unicode Letters: (a-z, A-Z)\n",
    "- Digits: (0-9)\n",
    "- Dollar Sign ($): Allowed but strongly discouraged – avoid using it.\n",
    "- Underscore (_): Allowed but strongly discouraged – avoid using it.\n",
    "\n",
    "3. Conventions & Best Practices:\n",
    "\n",
    "- Use Full Words: Prefer descriptive, full words over abbreviations (e.g., cadence instead of c).\n",
    "- Readability: Choose names that make your code self-documenting.\n",
    "- Avoid Reserved Words: Do not use Java keywords (e.g., `int, class, if`) as variable names.\n",
    "\n",
    "4. Naming Conventions (Case & Multi-Word Names):\n",
    "\n",
    "- Single Word: Always use lowercase letters. Example: `myVariable`.\n",
    "- Multiple Words: Capitalize the first letter of each subsequent word. Example: `gearRatio`, `currentGear`.\n",
    "\n",
    "5. Constants:\n",
    "\n",
    "When declaring constant values (using `static final`), follow this convention:\n",
    "- Capitalize every letter.\n",
    "- Separate subsequent words with the underscore character (_). Example: `NUM_GEARS`.\n",
    "\n",
    "In essence, aim for clear, descriptive, and consistent naming practices to improve code readability and maintainability.\n",
    "\n"
   ]
  }
 ],
 "metadata": {
  "kernelspec": {
   "display_name": "Java",
   "language": "java",
   "name": "java"
  },
  "language_info": {
   "name": "java"
  }
 },
 "nbformat": 4,
 "nbformat_minor": 5
}
