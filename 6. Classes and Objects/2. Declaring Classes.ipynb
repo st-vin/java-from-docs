{
 "cells": [
  {
   "cell_type": "markdown",
   "id": "cbc8e21a",
   "metadata": {},
   "source": [
    "# Declaring Classes\n",
    "\n",
    "You've seen classes defined in the following way:\n",
    "\n",
    "```java\n",
    "class MyClass {\n",
    "    // field, constructor, and \n",
    "    // method declarations\n",
    "}\n",
    "```\n",
    "\n",
    "This is a class declaration. The class body (the area between the braces) contains all the code that provides for the life cycle of the objects created from the class: \n",
    "\n",
    "**1. constructors for initializing new objects**\n",
    "\n",
    "**2. declarations for the fields that provide the state of the class and its objects**\n",
    "\n",
    "**3. methods to implement the behavior of the class and its objects**.\n",
    "\n",
    "The preceding class declaration is a minimal one. It contains only those components of a class declaration that are required. You can provide more information about the class, such as the name of its superclass, whether it implements any interfaces, and so on, at the start of the class declaration. For example,\n",
    "\n",
    "```java\n",
    "class MyClass extends MySuperClass implements YourInterface {\n",
    "    // field, constructor, and\n",
    "    // method declarations\n",
    "}\n",
    "```\n",
    "\n",
    "means that `MyClass` is a subclass of `MySuperClass` and that it implements the YourInterface interface.\n",
    "\n",
    "You can also add modifiers like `public` or `private` at the very beginning—so you can see that the opening line of a class declaration can become quite complicated. The modifiers `public` and `private`, which determine what other classes can access `MyClass`, are discussed later in this lesson. The lesson on `interfaces` and `inheritance` will explain how and why you would use the extends and implements keywords in a class declaration. For the moment you do not need to worry about these extra complications.\n",
    "\n",
    "In general, class declarations can include these components, in order:\n",
    "\n",
    "Modifiers such as public, private, and a number of others that you will encounter later. (However, note that the private modifier can only be applied to Nested Classes.)\n",
    "\n",
    "The class name, with the initial letter capitalized by convention.\n",
    "\n",
    "The name of the class's parent (superclass), if any, preceded by the keyword extends. A class can only extend (subclass) one parent.\n",
    "A comma-separated list of interfaces implemented by the class, if any, preceded by the keyword implements. A class can implement more than one interface.\n",
    "\n",
    "The class body, surrounded by braces, {}."
   ]
  }
 ],
 "metadata": {
  "language_info": {
   "name": "python"
  }
 },
 "nbformat": 4,
 "nbformat_minor": 5
}
