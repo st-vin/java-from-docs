{
 "cells": [
  {
   "cell_type": "markdown",
   "id": "e6726f1a",
   "metadata": {},
   "source": [
    "# About the Java Technology\n",
    "Java technology is both a programming language and a platform.\n",
    "\n",
    "The Java Programming Language\n",
    "The Java programming language is a high-level language that can be characterized by all of the following buzzwords:\n",
    "\n",
    "- Simple\n",
    "- Object oriented\n",
    "- Distributed\n",
    "- Multithreaded\n",
    "- Dynamic\n",
    "- Architecture neutral\n",
    "- Portable\n",
    "- High performance\n",
    "- Robust\n",
    "- Secure\n",
    "\n",
    "Each of the preceding buzzwords is explained in The Java Language Environment , a white paper written by James Gosling and Henry McGilton.\n",
    "\n",
    "In the Java programming language, all source code is first written in plain text files ending with the .java extension. Those source files are then compiled into .class files by the javac compiler. A .class file does not contain code that is native to your processor; it instead contains bytecodes — the machine language of the Java Virtual Machine1 (Java VM). The java launcher tool then runs your application with an instance of the Java Virtual Machine.\n",
    "\n",
    "The Java Platform\n",
    "A platform is the hardware or software environment in which a program runs. We've already mentioned some of the most popular platforms like Microsoft Windows, Linux, Solaris OS, and Mac OS. Most platforms can be described as a combination of the operating system and underlying hardware. The Java platform differs from most other platforms in that it's a software-only platform that runs on top of other hardware-based platforms.\n",
    "\n",
    "## The Java platform has two components:\n",
    "\n",
    "1. The Java Virtual Machine\n",
    "2. The Java Application Programming Interface (API)\n",
    "\n",
    "The Java Virtual Machine is the base for the Java platform and is ported onto various hardware-based platforms.\n",
    "\n",
    "The API is a large collection of ready-made software components that provide many useful capabilities. It is grouped into libraries of related classes and interfaces; these libraries are known as packages.\n",
    "\n",
    "## What Can Java Technology Do?\n",
    "The general-purpose, high-level Java programming language is a powerful software platform. Every full implementation of the Java platform gives you the following features:\n",
    "\n",
    "1. Development Tools: The development tools provide everything you'll need for compiling, running, monitoring, debugging, and documenting your applications. As a new developer, the main tools you'll be using are the javac compiler, the java launcher, and the javadoc documentation tool.\n",
    "\n",
    "2. Application Programming Interface (API): The API provides the core functionality of the Java programming language. It offers a wide array of useful classes ready for use in your own applications. It spans everything from basic objects, to networking and security, to XML generation and database access, and more. The core API is very large; to get an overview of what it contains, consult the Java Platform Standard Edition 8 Documentation.\n",
    "\n",
    "3. Deployment Technologies: The JDK software provides standard mechanisms such as the Java Web Start software and Java Plug-In software for deploying your applications to end users.\n",
    "\n",
    "4. User Interface Toolkits: The JavaFX, Swing, and Java 2D toolkits make it possible to create sophisticated Graphical User Interfaces (GUIs).\n",
    "\n",
    "5. Integration Libraries: Integration libraries such as the Java IDL API, JDBC API, Java Naming and Directory Interface (JNDI) API, Java RMI, and Java Remote Method Invocation over Internet Inter-ORB Protocol Technology (Java RMI-IIOP Technology) enable database access and manipulation of remote objects.\n",
    "\n"
   ]
  }
 ],
 "metadata": {
  "kernelspec": {
   "display_name": "Java",
   "language": "java",
   "name": "java"
  },
  "language_info": {
   "name": "java"
  }
 },
 "nbformat": 4,
 "nbformat_minor": 5
}
