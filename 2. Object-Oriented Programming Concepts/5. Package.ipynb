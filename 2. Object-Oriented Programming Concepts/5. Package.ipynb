{
 "cells": [
  {
   "cell_type": "markdown",
   "id": "464da8c1",
   "metadata": {},
   "source": [
    "# What Is a Package?\n",
    "\n",
    "**A package is a namespace that organizes a set of related classes and interfaces.**\n",
    "\n",
    "Because software written in the Java programming language can be composed of hundreds or thousands of individual classes, it makes sense to keep things organized by placing related classes and interfaces into packages.\n",
    "\n",
    "The Java platform provides an enormous class library (a set of packages) suitable for use in your own applications. This library is known as the \"Application Programming Interface\", or \"API\" for short. Its packages represent the tasks most commonly associated with general-purpose programming. For example, a String object contains state and behavior for character strings; a File object allows a programmer to easily create, delete, inspect, compare, or modify a file on the filesystem; a Socket object allows for the creation and use of network sockets; various GUI objects control buttons and check boxes and anything else related to graphical user interfaces. There are literally thousands of classes to choose from.\n",
    "\n",
    "This allows you, the programmer, to focus on the design of your particular application, rather than the infrastructure required to make it work.\n",
    "\n",
    "The Java Platform API Specification contains the complete listing for all packages, interfaces, classes, fields, and methods supplied by the Java SE platform. Load the page in your browser and bookmark it. As a programmer, it will become your single most important piece of reference documentation."
   ]
  }
 ],
 "metadata": {
  "kernelspec": {
   "display_name": "Java",
   "language": "java",
   "name": "java"
  },
  "language_info": {
   "name": "java"
  }
 },
 "nbformat": 4,
 "nbformat_minor": 5
}
