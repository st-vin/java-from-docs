{
 "cells": [
  {
   "cell_type": "markdown",
   "id": "79324f93",
   "metadata": {},
   "source": [
    "# **Expressions, Statements, and Blocks**\n",
    "\n",
    "**1. Expressions:**\n",
    "\n",
    "*   **What they are:** An expression is a combination of variables, operators, and method calls that *evaluates to a single value*. Think of them like mathematical equations.\n",
    "*   **Examples:** The document provides several examples:\n",
    "    *   `int result = 1 + 2;` (result is 3)\n",
    "    *   `anArray[0] = 100;` (assigning a value to an array element)\n",
    "    *   `System.out.println(\"Element 1 at index 0: \" + anArray[0]);` (printing a value)\n",
    "*   **Order of Operations:** It’s important to note that the order in which expressions are evaluated matters, especially with operators like addition and division.  Using parentheses `()` can force a specific order of evaluation, making your code clearer and less prone to errors.\n",
    "\n",
    "**2. Statements:**\n",
    "\n",
    "*   **What they are:** A statement is a complete unit of execution, usually ending with a semicolon (`;`). They’re like sentences in a program.\n",
    "*   **Types:** There are several types of statements, including:\n",
    "    *   *Assignment statements*:  `aValue = 8933.234;`\n",
    "    *   *Increment/Decrement statements*: `aValue++;`\n",
    "    *   *Method invocation statements*:  `System.out.println(\"Hello World!\");`\n",
    "    *   *Object creation statements*: `Bicycle myBike = new Bicycle();`\n",
    "*   **Declarations:**  Statements can also declare variables (`double aValue = 8933.234;`).\n",
    "\n",
    "**3. Blocks:**\n",
    "\n",
    "*   **What they are:** A block is a group of zero or more statements enclosed in balanced braces `{}`.  Blocks are used to group related statements together, especially for control flow (like in `if` statements).\n",
    "*   **Example:**  The `BlockDemo` example shows how blocks organize statements within conditional logic.\n"
   ]
  }
 ],
 "metadata": {
  "language_info": {
   "name": "python"
  }
 },
 "nbformat": 4,
 "nbformat_minor": 5
}
