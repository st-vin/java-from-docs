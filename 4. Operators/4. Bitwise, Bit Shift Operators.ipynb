{
 "cells": [
  {
   "cell_type": "markdown",
   "id": "ff909ce2",
   "metadata": {},
   "source": [
    "# **Bitwise and Bit Shift Operators**\n",
    "\n",
    "Java provides operators that perform bitwise and bit shift operations on integral types.\n",
    "\n",
    "The unary bitwise complement operator `\"~\"` inverts a bit pattern; it can be applied to any of the integral types, making every \"0\" a \"1\" and every \"1\" a \"0\". For example, a byte contains 8 bits; applying this operator to a value whose bit pattern is \"00000000\" would change its pattern to \"11111111\".\n",
    "\n",
    "The signed left shift operator \"<<\" shifts a bit pattern to the left, and the signed right shift operator \">>\" shifts a bit pattern to the right. The bit pattern is given by the left-hand operand, and the number of positions to shift by the right-hand operand. The unsigned right shift operator \">>>\" shifts a zero into the leftmost position, while the leftmost position after \">>\" depends on sign extension.\n",
    "\n",
    "\n",
    "- The bitwise `&` operator performs a bitwise AND operation.\n",
    "\n",
    "- The bitwise `^` operator performs a bitwise exclusive OR operation.\n",
    "\n",
    "- The bitwise `|` operator performs a bitwise inclusive OR operation.\n",
    "\n",
    "The following program, BitDemo, uses the bitwise AND operator to print the number \"2\" to standard output.\n",
    "\n",
    "```java\n",
    "class BitDemo {\n",
    "    public static void main(String[] args) {\n",
    "        int bitmask = 0x000F;\n",
    "        int val = 0x2222;\n",
    "        // prints \"2\"\n",
    "        System.out.println(val & bitmask);\n",
    "    }\n",
    "}\n",
    "```\n"
   ]
  }
 ],
 "metadata": {
  "language_info": {
   "name": "python"
  }
 },
 "nbformat": 4,
 "nbformat_minor": 5
}
