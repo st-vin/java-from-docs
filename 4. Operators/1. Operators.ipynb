{
 "cells": [
  {
   "cell_type": "markdown",
   "id": "86a5fb8d",
   "metadata": {},
   "source": [
    "# **Operator Precedence in Java – A Detailed Summary**\n",
    "\n",
    "Understanding operator precedence is crucial for writing correct Java code. It dictates the order in which operations are performed in an expression.  If you don’t specify parentheses to control the order, Java follows a well-defined precedence rule.\n",
    "\n",
    "**1. Overview**\n",
    "\n",
    "*   **Precedence:** The order in which operators are evaluated within an expression. Higher precedence operators are evaluated *before* lower precedence ones.\n",
    "*   **Parentheses:** The most effective way to control the order of operations is to use parentheses.  Expressions within parentheses are *always* evaluated first.\n",
    "*   **Left to Right for Equal Precedence:**  When two operators of the same precedence appear next to each other, they are evaluated from left to right.\n",
    "\n",
    "**2. Operator Precedence Table (From Highest to Lowest)**\n",
    "\n",
    "Here’s the table presented for clarity:\n",
    "\n",
    "| **Operator Group** | **Operators**           | **Precedence** |\n",
    "|--------------------|------------------------|----------------|\n",
    "| Postfix            | `expr++ expr--`        | Highest        |\n",
    "| Unary               | `++expr --expr +expr -expr ~ !` | High           |\n",
    "| Multiplicative      | `* / %`                | High           |\n",
    "| Additive            | `+ -`                  | High           |\n",
    "| Shift              | `<< >> >>>`            | High           |\n",
    "| Relational          | `< > <= >= instanceof`  | High           |\n",
    "| Equality            | `== !=`                | High           |\n",
    "| Bitwise AND         | `&`                    | High           |\n",
    "| Bitwise XOR         | `^`                    | High           |\n",
    "| Bitwise OR          | `|`                    | High           |\n",
    "| Logical AND         | `&&`                   | High           |\n",
    "| Logical OR          | `||`                   | High           |\n",
    "| Ternary (Conditional)| `? :`                 | Lowest         |\n",
    "| Assignment          | `= += -= *= /= %= &= ^= |= <<= >>= >>>=` | Lowest |\n",
    "\n"
   ]
  }
 ],
 "metadata": {
  "language_info": {
   "name": "python"
  }
 },
 "nbformat": 4,
 "nbformat_minor": 5
}
