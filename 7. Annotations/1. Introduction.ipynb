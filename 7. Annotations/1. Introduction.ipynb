{
 "cells": [
  {
   "cell_type": "markdown",
   "id": "49367c24",
   "metadata": {},
   "source": [
    "# What are Annotations?\n",
    "\n",
    "Annotations, a form of metadata, provide data about a program that is not part of the program itself. Annotations have no direct effect on the operation of the code they annotate.\n",
    "\n",
    "Annotations have a number of uses, among them:\n",
    "\n",
    "- Information for the compiler — Annotations can be used by the compiler to detect errors or suppress warnings.\n",
    "\n",
    "- Compile-time and deployment-time processing — Software tools can process annotation information to generate code, XML files, and so forth.\n",
    "\n",
    "- Runtime processing — Some annotations are available to be examined at runtime.\n",
    "\n",
    "This lesson explains where annotations can be used, how to apply annotations, what predefined annotation types are available in the Java Platform, Standard Edition (Java SE API), how type annotations can be used in conjunction with pluggable type systems to write code with stronger type checking, and how to implement repeating annotations."
   ]
  }
 ],
 "metadata": {
  "language_info": {
   "name": "python"
  }
 },
 "nbformat": 4,
 "nbformat_minor": 5
}
